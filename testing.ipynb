{
 "cells": [
  {
   "cell_type": "code",
   "execution_count": 1,
   "id": "505ee2fb",
   "metadata": {},
   "outputs": [],
   "source": [
    "import matplotlib.pyplot as plt\n",
    "import numpy as np\n",
    "from figures import Point, Line\n",
    "PI = np.pi\n"
   ]
  },
  {
   "cell_type": "code",
   "execution_count": 2,
   "id": "0cffa49f",
   "metadata": {},
   "outputs": [],
   "source": [
    "def get_fig_base():\n",
    "    fig = plt.figure(figsize=(10,10))\n",
    "    ax = fig.add_subplot(1, 1, 1)\n",
    "    ax.grid(color='gray', alpha = 0.4)\n",
    "    ax.set_xlim(-0.1, 1.1)\n",
    "    ax.set_ylim(-0.1, 1.1)\n",
    "    ax.set_xlabel('x')\n",
    "    ax.set_ylabel('y')\n",
    "    return fig, ax"
   ]
  },
  {
   "cell_type": "code",
   "execution_count": 3,
   "id": "914f8ea6",
   "metadata": {},
   "outputs": [
    {
     "data": {
      "image/png": "[encoded data removed]",
      "text/plain": [
       "<Figure size 720x720 with 1 Axes>"
      ]
     },
     "metadata": {
      "needs_background": "light"
     },
     "output_type": "display_data"
    }
   ],
   "source": [
    "a = Point('A', 1, 0)\n",
    "b = Point('B', 0, 0)\n",
    "c = Point('C', 0.5, 0.2)\n",
    "d = Point('D', 0.2, 0.9)\n",
    "f = Point('F', 0.2, 0.2)\n",
    "e = Point('E', 0.7, 0.6)\n",
    "\n",
    "\n",
    "fig, ax =  get_fig_base()\n",
    "a.draw_point(fig, ax, color='blue', s=20)\n",
    "b.draw_point(fig, ax)\n",
    "c.draw_point(fig, ax)\n",
    "d.draw_point(fig, ax)\n",
    "e.draw_point(fig, ax)\n",
    "f.draw_point(fig, ax)"
   ]
  },
  {
   "cell_type": "code",
   "execution_count": null,
   "id": "2fa017b2",
   "metadata": {},
   "outputs": [],
   "source": []
  },
  {
   "cell_type": "code",
   "execution_count": null,
   "id": "57f4974c",
   "metadata": {},
   "outputs": [],
   "source": []
  },
  {
   "cell_type": "code",
   "execution_count": null,
   "id": "bd9a671f",
   "metadata": {},
   "outputs": [],
   "source": []
  },
  {
   "cell_type": "code",
   "execution_count": null,
   "id": "3b89222a",
   "metadata": {},
   "outputs": [],
   "source": []
  },
  {
   "cell_type": "code",
   "execution_count": 4,
   "id": "1821256e",
   "metadata": {},
   "outputs": [],
   "source": [
    "line_AB = Line.create_line_from_points(a,b)\n",
    "line_DF = Line.create_line_from_points(d,f)\n",
    "line_CD = Line.create_line_from_points(c,d)\n",
    "line_AB.draw_line(fig, ax)\n",
    "line_CD.draw_line(fig, ax)\n",
    "line_DF.draw_line(fig, ax)\n",
    "\n",
    "l1 = line_CD.get_line_to_point(e)\n",
    "l2 = line_AB.get_line_to_point(e)\n",
    "l3 = line_DF.get_line_to_point(e)\n",
    "\n",
    "l1.draw_line(fig, ax, color = 'green')\n",
    "l2.draw_line(fig, ax, color='blue')\n",
    "l3.draw_line(fig, ax, color='purple')"
   ]
  },
  {
   "cell_type": "code",
   "execution_count": null,
   "id": "8d6081f3",
   "metadata": {},
   "outputs": [],
   "source": []
  },
  {
   "cell_type": "markdown",
   "id": "65843491",
   "metadata": {},
   "source": [
    "## Simple unit tests for class Line"
   ]
  },
  {
   "cell_type": "code",
   "execution_count": 5,
   "id": "39466beb",
   "metadata": {},
   "outputs": [],
   "source": [
    "p1 = Point('p1', 0, 0.2)\n",
    "p2 = Point('p2', 1, 0.7)\n",
    "line = Line.create_line_from_points(p1, p2)\n",
    "line\n",
    "assert np.isclose(line.intercept, 0.2)\n",
    "assert np.isclose(line.slope, 0.5)"
   ]
  },
  {
   "cell_type": "code",
   "execution_count": null,
   "id": "aaf3968a",
   "metadata": {},
   "outputs": [],
   "source": []
  },
  {
   "cell_type": "code",
   "execution_count": 6,
   "id": "dca89d10",
   "metadata": {},
   "outputs": [],
   "source": [
    "p1 = Point('p1', 0, 0.2)\n",
    "p2 = Point('p2', 1, 0.7)\n",
    "line = Line.create_line_from_points(p2, p1)\n",
    "\n",
    "assert np.isclose(line.intercept, 0.2)\n",
    "assert np.isclose(line.slope, 0.5)"
   ]
  },
  {
   "cell_type": "code",
   "execution_count": 7,
   "id": "01d26057",
   "metadata": {},
   "outputs": [],
   "source": [
    "p1 = Point('p1', 0.1, 0.3)\n",
    "p2 = Point('p2', 0.3, 0.1)\n",
    "line = Line.create_line_from_points(p1, p2)\n",
    "\n",
    "assert np.isclose(line.intercept, 0.4)\n",
    "assert np.isclose(line.slope, -1)"
   ]
  },
  {
   "cell_type": "code",
   "execution_count": 8,
   "id": "f5b32145",
   "metadata": {},
   "outputs": [],
   "source": [
    "p1 = Point('p1', 0, -0.2)\n",
    "p2 = Point('p2', 0.6, 0)\n",
    "line = Line.create_line_from_points(p2, p1)\n",
    "\n",
    "assert np.isclose(line.intercept, -0.2)\n",
    "assert np.isclose(line.slope, 1/3)"
   ]
  },
  {
   "cell_type": "code",
   "execution_count": 9,
   "id": "c13e2346",
   "metadata": {},
   "outputs": [],
   "source": [
    "p1 = Point('p1', 0.5, 0.2)\n",
    "p2 = Point('p2', 0.5, 0.4)\n",
    "line = Line.create_line_from_points(p2, p1)\n",
    "\n",
    "assert np.isinf(line.slope)\n",
    "assert np.isnan(line.intercept)\n"
   ]
  },
  {
   "cell_type": "code",
   "execution_count": null,
   "id": "31c16c17",
   "metadata": {},
   "outputs": [],
   "source": []
  },
  {
   "cell_type": "code",
   "execution_count": 10,
   "id": "04c004bd",
   "metadata": {},
   "outputs": [
    {
     "data": {
      "text/plain": [
       "CP=(0.6, 0.2)"
      ]
     },
     "execution_count": 10,
     "metadata": {},
     "output_type": "execute_result"
    },
    {
     "data": {
      "image/png": "[encoded data removed]",
      "text/plain": [
       "<Figure size 720x720 with 1 Axes>"
      ]
     },
     "metadata": {
      "needs_background": "light"
     },
     "output_type": "display_data"
    }
   ],
   "source": [
    "a = Point('A', 1, 0.4)\n",
    "b = Point('B', 0.2, 0)\n",
    "c = Point('C', 0.4, 0.6)\n",
    "d = Point('D', 0.2, 1)\n",
    "\n",
    "fig, ax =  get_fig_base()\n",
    "a.draw_point(fig, ax)\n",
    "b.draw_point(fig, ax)\n",
    "c.draw_point(fig, ax)\n",
    "d.draw_point(fig, ax)\n",
    "\n",
    "line_AB = Line.create_line_from_points(a,b)\n",
    "line_BC = Line.create_line_from_points(b,c)\n",
    "line_CD = Line.create_line_from_points(c,d)\n",
    "line_AB.draw_line(fig, ax)\n",
    "line_CD.draw_line(fig, ax)\n",
    "\n",
    "crossing_point_AB_CD = line_AB.get_crossing_point(line_CD)\n",
    "crossing_point_AB_CD.draw_point(fig, ax, color='black', s=20)\n",
    "\n",
    "#line_BC.draw_line(fig, ax)\n",
    "#crossing_point_AB_BC = line_AB.get_crossing_point(line_BC)\n",
    "#crossing_point_AB_BC.draw_point(fig, ax, color='black', pointsize=10)\n",
    "crossing_point_AB_CD"
   ]
  },
  {
   "cell_type": "code",
   "execution_count": 17,
   "id": "b36bfa70",
   "metadata": {},
   "outputs": [
    {
     "name": "stdout",
     "output_type": "stream",
     "text": [
      "line AB True\n",
      "line CD False\n"
     ]
    },
    {
     "data": {
      "image/png": "[encoded data removed]",
      "text/plain": [
       "<Figure size 720x720 with 1 Axes>"
      ]
     },
     "metadata": {
      "needs_background": "light"
     },
     "output_type": "display_data"
    }
   ],
   "source": [
    "    \n",
    "a = Point('A', 1.0, 0.4)\n",
    "b = Point('B', 0.2, 0.0)\n",
    "c = Point('C', 0.4, 0.6)\n",
    "d = Point('D', 0.2, 1.0)\n",
    "    \n",
    "    \n",
    "fig, ax =  get_fig_base()\n",
    "a.draw_point(fig, ax)\n",
    "b.draw_point(fig, ax)\n",
    "c.draw_point(fig, ax)\n",
    "d.draw_point(fig, ax)\n",
    "\n",
    "line_AB = Line.create_line_from_points(a,b)\n",
    "line_BC = Line.create_line_from_points(b,c)\n",
    "line_CD = Line.create_line_from_points(c,d)\n",
    "line_AB.draw_line(fig, ax)\n",
    "line_CD.draw_line(fig, ax)\n",
    "\n",
    "crossing_point_AB_CD = line_AB.get_crossing_point(line_CD)\n",
    "crossing_point_AB_CD.draw_point(fig, ax, color='black', s=10)\n",
    "p = crossing_point_AB_CD\n",
    "print(\"line AB\", line_AB.is_point_in_line(p))\n",
    "print(\"line CD\", line_CD.is_point_in_line(p))"
   ]
  },
  {
   "cell_type": "code",
   "execution_count": null,
   "id": "efd665b9",
   "metadata": {},
   "outputs": [],
   "source": [
    "  \n",
    "def test_get_crossing_point_1():\n",
    "    \n",
    "    a = Point('A', 1.0, 0.4)\n",
    "    b = Point('B', 0.2, 0.0)\n",
    "    c = Point('C', 0.4, 0.6)\n",
    "    d = Point('D', 0.2, 1.0)\n",
    "    \n",
    "    line_AB = Line.create_line_from_points(a,b)\n",
    "    line_CD = Line.create_line_from_points(c,d)\n",
    "    crossing_point_AB_CD = line_AB.get_crossing_point(line_CD)\n",
    "    assert crossing_point_AB_CD == Point('', 0.6, 0.2)\n",
    "\n",
    "    \n",
    "    \n",
    "def test_get_crossing_point_2():\n",
    "    \n",
    "    a = Point('A', 1, 0) \n",
    "    b = Point('B', 0, 0)\n",
    "    c = Point('C', 0.6, 0.2)\n",
    "    d = Point('D', 0.6, 0.9)\n",
    "    \n",
    "    line_AB = Line.create_line_from_points(a,b)\n",
    "    line_CD = Line.create_line_from_points(c,d)\n",
    "    crossing_point_AB_CD = line_AB.get_crossing_point(line_CD)\n",
    "    assert crossing_point_AB_CD == Point('', 0.6, 0.0)\n"
   ]
  },
  {
   "cell_type": "code",
   "execution_count": null,
   "id": "17871be1",
   "metadata": {},
   "outputs": [],
   "source": []
  }
 ],
 "metadata": {
  "kernelspec": {
   "display_name": "Python 3 (ipykernel)",
   "language": "python",
   "name": "python3"
  },
  "language_info": {
   "codemirror_mode": {
    "name": "ipython",
    "version": 3
   },
   "file_extension": ".py",
   "mimetype": "text/x-python",
   "name": "python",
   "nbconvert_exporter": "python",
   "pygments_lexer": "ipython3",
   "version": "3.8.5"
  }
 },
 "nbformat": 4,
 "nbformat_minor": 5
}
